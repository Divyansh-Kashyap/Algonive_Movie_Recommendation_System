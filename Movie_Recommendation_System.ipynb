{
 "cells": [
  {
   "cell_type": "markdown",
   "id": "529d07b4",
   "metadata": {},
   "source": [
    "# 🎬 Movie Recommendation System\n",
    "This notebook demonstrates a **Movie Recommendation System** using both **Collaborative Filtering** and **Content-Based Filtering** techniques.\n",
    "\n",
    "## 🔍 Use Cases\n",
    "- Personalized recommendations based on user preferences\n",
    "- Discovering similar movies based on genre, actors, or ratings\n",
    "- Improving user engagement on movie streaming platforms\n"
   ]
  },
  {
   "cell_type": "code",
   "execution_count": 13,
   "id": "7b380e17",
   "metadata": {},
   "outputs": [],
   "source": [
    "import pandas as pd\n",
    "import numpy as np\n",
    "from sklearn.feature_extraction.text import TfidfVectorizer\n",
    "from sklearn.metrics.pairwise import linear_kernel\n",
    "from sklearn.neighbors import NearestNeighbors\n",
    "import matplotlib.pyplot as plt\n",
    "import seaborn as sns\n",
    "import warnings\n",
    "warnings.filterwarnings('ignore')\n"
   ]
  },
  {
   "cell_type": "markdown",
   "id": "8dda4b22",
   "metadata": {},
   "source": [
    "## 📂 Load MovieLens Dataset"
   ]
  },
  {
   "cell_type": "code",
   "execution_count": 23,
   "id": "c4fa24da",
   "metadata": {},
   "outputs": [],
   "source": [
    "movies = pd.read_csv(\"movies.dat\", sep=\"::\", engine=\"python\", encoding=\"ISO-8859-1\",\n",
    "                     names=[\"MovieID\", \"Title\", \"Genres\"])\n",
    "\n",
    "ratings = pd.read_csv(\"ratings.dat\", sep=\"::\", engine=\"python\", encoding=\"ISO-8859-1\",\n",
    "                      names=[\"UserID\", \"MovieID\", \"Rating\", \"Timestamp\"])\n",
    "\n",
    "users = pd.read_csv(\"users.dat\", sep=\"::\", engine=\"python\", encoding=\"ISO-8859-1\",\n",
    "                    names=[\"UserID\", \"Gender\", \"Age\", \"Occupation\", \"Zip-code\"])\n",
    "\n"
   ]
  },
  {
   "cell_type": "code",
   "execution_count": 25,
   "id": "f9a3ed0f-4045-476e-a7dd-3eea73314e02",
   "metadata": {},
   "outputs": [],
   "source": [
    "movies.to_csv(\"movies.csv\", index=False)\n",
    "ratings.to_csv(\"ratings.csv\", index=False)\n",
    "users.to_csv(\"users.csv\", index=False)"
   ]
  },
  {
   "cell_type": "code",
   "execution_count": 49,
   "id": "e0ffbb2b-e6e0-49d2-9ed3-566a119659aa",
   "metadata": {},
   "outputs": [
    {
     "data": {
      "text/plain": [
       "(   MovieID                               Title                        Genres\n",
       " 0        1                    Toy Story (1995)   Animation|Children's|Comedy\n",
       " 1        2                      Jumanji (1995)  Adventure|Children's|Fantasy\n",
       " 2        3             Grumpier Old Men (1995)                Comedy|Romance\n",
       " 3        4            Waiting to Exhale (1995)                  Comedy|Drama\n",
       " 4        5  Father of the Bride Part II (1995)                        Comedy,\n",
       "       MovieID                       Title          Genres\n",
       " 3878     3948     Meet the Parents (2000)          Comedy\n",
       " 3879     3949  Requiem for a Dream (2000)           Drama\n",
       " 3880     3950            Tigerland (2000)           Drama\n",
       " 3881     3951     Two Family House (2000)           Drama\n",
       " 3882     3952       Contender, The (2000)  Drama|Thriller)"
      ]
     },
     "execution_count": 49,
     "metadata": {},
     "output_type": "execute_result"
    }
   ],
   "source": [
    "movies.head(), movies.tail()"
   ]
  },
  {
   "cell_type": "code",
   "execution_count": 43,
   "id": "fefef935-eb18-42c0-a004-5bbf93e859e8",
   "metadata": {},
   "outputs": [
    {
     "data": {
      "text/plain": [
       "(   UserID  MovieID  Rating  Timestamp\n",
       " 0       1     1193       5  978300760\n",
       " 1       1      661       3  978302109\n",
       " 2       1      914       3  978301968\n",
       " 3       1     3408       4  978300275\n",
       " 4       1     2355       5  978824291,\n",
       "          UserID  MovieID  Rating  Timestamp\n",
       " 1000204    6040     1091       1  956716541\n",
       " 1000205    6040     1094       5  956704887\n",
       " 1000206    6040      562       5  956704746\n",
       " 1000207    6040     1096       4  956715648\n",
       " 1000208    6040     1097       4  956715569)"
      ]
     },
     "execution_count": 43,
     "metadata": {},
     "output_type": "execute_result"
    }
   ],
   "source": [
    "ratings.head(), ratings.tail()"
   ]
  },
  {
   "cell_type": "code",
   "execution_count": 41,
   "id": "07283935-ad44-4648-b0e4-b0d3aa395b19",
   "metadata": {},
   "outputs": [
    {
     "data": {
      "text/plain": [
       "(   UserID Gender  Age  Occupation Zip-code\n",
       " 0       1      F    1          10    48067\n",
       " 1       2      M   56          16    70072\n",
       " 2       3      M   25          15    55117\n",
       " 3       4      M   45           7    02460\n",
       " 4       5      M   25          20    55455,\n",
       "       UserID Gender  Age  Occupation Zip-code\n",
       " 6035    6036      F   25          15    32603\n",
       " 6036    6037      F   45           1    76006\n",
       " 6037    6038      F   56           1    14706\n",
       " 6038    6039      F   45           0    01060\n",
       " 6039    6040      M   25           6    11106)"
      ]
     },
     "execution_count": 41,
     "metadata": {},
     "output_type": "execute_result"
    }
   ],
   "source": [
    "users.head(), users.tail()"
   ]
  },
  {
   "cell_type": "markdown",
   "id": "360f097b",
   "metadata": {},
   "source": [
    "## 🎯 Content-Based Recommendation"
   ]
  },
  {
   "cell_type": "code",
   "execution_count": 27,
   "id": "d513e5b8",
   "metadata": {},
   "outputs": [],
   "source": [
    "# Step 1: TF-IDF on genres\n",
    "tfidf = TfidfVectorizer(stop_words='english')\n",
    "tfidf_matrix = tfidf.fit_transform(movies['Genres'].fillna(''))\n",
    "\n",
    "# Step 2: Fit KNN model\n",
    "knn_model = NearestNeighbors(metric='cosine', algorithm='brute')\n",
    "knn_model.fit(tfidf_matrix)\n",
    "\n",
    "# Step 3: Map movie titles to index\n",
    "indices = pd.Series(movies.index, index=movies['Title'])\n",
    "\n",
    "# Step 4: Recommend similar movies\n",
    "def content_recommendations(title, num=5):\n",
    "    if title not in indices:\n",
    "        return [\"Movie not found.\"]\n",
    "    idx = indices[title]\n",
    "    distances, neighbors = knn_model.kneighbors(tfidf_matrix[idx], n_neighbors=num+1)\n",
    "    movie_indices = neighbors.flatten()[1:]  # skip the first (it's the movie itself)\n",
    "    return movies['Title'].iloc[movie_indices].tolist()\n"
   ]
  },
  {
   "cell_type": "markdown",
   "id": "8856b1be",
   "metadata": {},
   "source": [
    "## 👥 Collaborative Filtering (User-Based)"
   ]
  },
  {
   "cell_type": "code",
   "execution_count": 51,
   "id": "5cde6763",
   "metadata": {},
   "outputs": [],
   "source": [
    "# Step 1: Create pivot table (users x movies)\n",
    "user_movie_ratings = ratings.pivot_table(index='UserID', columns='MovieID', values='Rating').fillna(0)\n",
    "\n",
    "# Step 2: Fit Nearest Neighbors model\n",
    "model_knn = NearestNeighbors(metric='cosine', algorithm='brute')\n",
    "model_knn.fit(user_movie_ratings.values)\n",
    "\n",
    "# Step 3: Define recommendation function\n",
    "def collaborative_recommendations(user_id, num=5):\n",
    "    if user_id not in user_movie_ratings.index:\n",
    "        return [\"❌ User ID not found.\"]\n",
    "    \n",
    "    # Get similar users\n",
    "    distances, indices = model_knn.kneighbors([user_movie_ratings.loc[user_id]], n_neighbors=num+1)\n",
    "    neighbors = indices.flatten()[1:]  # Exclude the input user\n",
    "    \n",
    "    # Aggregate ratings from neighbors\n",
    "    neighbor_ratings = ratings[ratings['UserID'].isin(user_movie_ratings.index[neighbors])]\n",
    "    top_movies = (neighbor_ratings.groupby('MovieID')\n",
    "                                .mean()['Rating']\n",
    "                                .sort_values(ascending=False)\n",
    "                                .head(num))\n",
    "\n",
    "    recommended_titles = movies[movies['MovieID'].isin(top_movies.index)]['Title'].tolist()\n",
    "    return recommended_titles if recommended_titles else [\"⚠️ No recommendations available.\"]\n"
   ]
  },
  {
   "cell_type": "markdown",
   "id": "70978b82",
   "metadata": {},
   "source": [
    "# 🧪 Try it Out!"
   ]
  },
  {
   "cell_type": "markdown",
   "id": "ff6a1e44-dda0-456e-9393-32a8457040e1",
   "metadata": {},
   "source": [
    "# Content-Based Example"
   ]
  },
  {
   "cell_type": "code",
   "execution_count": 60,
   "id": "e756fb98",
   "metadata": {},
   "outputs": [
    {
     "name": "stdout",
     "output_type": "stream",
     "text": [
      "🎬 Content-based recommendations for 'Toy Story (1995)':\n",
      "👉 Saludos Amigos (1943)\n",
      "👉 Aladdin and the King of Thieves (1996)\n",
      "👉 American Tail, An (1986)\n",
      "👉 Toy Story 2 (1999)\n",
      "👉 Chicken Run (2000)\n"
     ]
    }
   ],
   "source": [
    "movie_title = 'Toy Story (1995)'\n",
    "print(f\"🎬 Content-based recommendations for '{movie_title}':\")\n",
    "try:\n",
    "    for movie in content_recommendations(movie_title):\n",
    "        print(f\"👉 {movie}\")\n",
    "except Exception as e:\n",
    "    print(f\"❌ Error: {e}\")\n"
   ]
  },
  {
   "cell_type": "markdown",
   "id": "84c2ca01-4d1a-404b-9e09-8ff7b0f91c48",
   "metadata": {},
   "source": [
    "# Collaborative Example"
   ]
  },
  {
   "cell_type": "code",
   "execution_count": 63,
   "id": "9c589a15-2a56-4924-b406-244b23cd2880",
   "metadata": {},
   "outputs": [
    {
     "name": "stdout",
     "output_type": "stream",
     "text": [
      "\n",
      "👥 Collaborative recommendations for User ID 1:\n",
      "👉 Schindler's List (1993)\n",
      "👉 English Patient, The (1996)\n",
      "👉 Titanic (1997)\n",
      "👉 Dark City (1998)\n",
      "👉 Christmas Story, A (1983)\n"
     ]
    }
   ],
   "source": [
    "user_id = 1\n",
    "print(f\"\\n👥 Collaborative recommendations for User ID {user_id}:\")\n",
    "try:\n",
    "    for movie in collaborative_recommendations(user_id):\n",
    "        print(f\"👉 {movie}\")\n",
    "except Exception as e:\n",
    "    print(f\"❌ Error: {e}\")"
   ]
  },
  {
   "cell_type": "code",
   "execution_count": null,
   "id": "adbb605f-ebcf-4f08-98aa-12aa62e0d651",
   "metadata": {},
   "outputs": [],
   "source": []
  }
 ],
 "metadata": {
  "kernelspec": {
   "display_name": "Python 3 (ipykernel)",
   "language": "python",
   "name": "python3"
  },
  "language_info": {
   "codemirror_mode": {
    "name": "ipython",
    "version": 3
   },
   "file_extension": ".py",
   "mimetype": "text/x-python",
   "name": "python",
   "nbconvert_exporter": "python",
   "pygments_lexer": "ipython3",
   "version": "3.12.4"
  }
 },
 "nbformat": 4,
 "nbformat_minor": 5
}
